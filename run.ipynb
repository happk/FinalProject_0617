{
 "cells": [
  {
   "cell_type": "markdown",
   "metadata": {
    "collapsed": false
   },
   "source": [
    "# 數據前處理"
   ]
  },
  {
   "cell_type": "code",
   "execution_count": null,
   "metadata": {},
   "outputs": [],
   "source": [
    "!conda activate ./venv"
   ]
  },
  {
   "cell_type": "code",
   "execution_count": null,
   "metadata": {
    "collapsed": false
   },
   "outputs": [],
   "source": [
    "import codecs\n",
    "import os\n",
    "import re\n",
    "from PIL import Image\n",
    "\n",
    "all_file_dir = 'data/'\n",
    "\n",
    "train_image_dir = os.path.join(all_file_dir, \"train\") \n",
    "eval_image_dir = os.path.join(all_file_dir, \"test\")\n",
    "\n",
    "for name in os.listdir(train_image_dir):    \n",
    "    if ' ' in name:\n",
    "        subpath = os.path.join(train_image_dir, name)\n",
    "        for sub_name in os.listdir(subpath):\n",
    "            new_sub_name = re.sub(' ', '_', sub_name)\n",
    "            os.rename(subpath+'/'+sub_name, subpath+'/'+new_sub_name)\n",
    "        new_name = re.sub(' ', '_', name)\n",
    "        os.rename(train_image_dir+'/'+name, train_image_dir+'/'+new_name)\n",
    "\n",
    "for name in os.listdir(eval_image_dir):\n",
    "    if ' ' in name:\n",
    "        subpath = os.path.join(eval_image_dir, name)\n",
    "        for sub_name in os.listdir(subpath):\n",
    "            new_sub_name = re.sub(' ', '_', sub_name)\n",
    "            os.rename(subpath+'/'+sub_name, subpath+'/'+new_sub_name)\n",
    "        new_name = re.sub(' ', '_', name)\n",
    "        os.rename(eval_image_dir+'/'+name, eval_image_dir+'/'+new_name)\n",
    "\n",
    "class_list = [c.replace(' ','') for c in os.listdir(all_file_dir + '/train') if os.path.isdir(os.path.join(all_file_dir+'/train', c)) and not c.startswith('.')]\n",
    "class_list.sort()\n",
    "print(class_list)\n",
    "all_file_dir = 'data'\n",
    "\n",
    "train_image_dir = os.path.join(all_file_dir, \"train\") \n",
    "eval_image_dir = os.path.join(all_file_dir, \"test\")\n",
    "\n",
    "\n",
    "train_file = codecs.open(os.path.join(all_file_dir, \"train.txt\"), 'w')\n",
    "eval_file = codecs.open(os.path.join(all_file_dir, \"eval.txt\"), 'w')\n",
    "\n",
    "with codecs.open(os.path.join(all_file_dir, \"label_list.txt\"), \"w\") as label_list:\n",
    "    label_id = 0\n",
    "    for class_dir in class_list:\n",
    "        label_list.write(\"{0}\\t{1}\\n\".format(label_id, class_dir))\n",
    "        image_path_train = os.path.join(train_image_dir, class_dir)\n",
    "        image_path_eval = os.path.join(eval_image_dir, class_dir)\n",
    "        for file in os.listdir(image_path_train):\n",
    "            try:\n",
    "                img = Image.open(os.path.join(image_path_train, file))\n",
    "                train_file.write(\"{0}\\t{1}\\n\".format(os.path.join(image_path_train, file), label_id))\n",
    "            except Exception as e:\n",
    "                pass\n",
    "        for file in os.listdir(image_path_eval):\n",
    "            try:\n",
    "                img = Image.open(os.path.join(image_path_eval, file))\n",
    "                eval_file.write(\"{0}\\t{1}\\n\".format(os.path.join(image_path_eval, file), label_id))\n",
    "            except Exception as e:\n",
    "                pass\n",
    "        label_id += 1\n",
    "            \n",
    "train_file.close()\n",
    "eval_file.close()"
   ]
  },
  {
   "cell_type": "markdown",
   "metadata": {
    "collapsed": false
   },
   "source": [
    "# 訓練"
   ]
  },
  {
   "cell_type": "code",
   "execution_count": null,
   "metadata": {
    "collapsed": false
   },
   "outputs": [],
   "source": [
    "!python work/train_resnet.py"
   ]
  },
  {
   "cell_type": "code",
   "execution_count": null,
   "metadata": {
    "collapsed": false
   },
   "outputs": [],
   "source": [
    "\n",
    "!python work/train_spinalnet.py"
   ]
  },
  {
   "cell_type": "markdown",
   "metadata": {
    "collapsed": false
   },
   "source": [
    "# 驗證"
   ]
  },
  {
   "cell_type": "code",
   "execution_count": null,
   "metadata": {
    "collapsed": false
   },
   "outputs": [],
   "source": [
    "\n",
    "!python work/eval_resnet.py"
   ]
  },
  {
   "cell_type": "code",
   "execution_count": null,
   "metadata": {
    "collapsed": false
   },
   "outputs": [],
   "source": [
    "\n",
    "!python work/eval_spinalnet.py"
   ]
  },
  {
   "cell_type": "markdown",
   "metadata": {
    "collapsed": false
   },
   "source": [
    "# 驗證可視化"
   ]
  },
  {
   "cell_type": "code",
   "execution_count": null,
   "metadata": {
    "collapsed": false
   },
   "outputs": [],
   "source": [
    "\n",
    "import numpy as np\n",
    "import matplotlib.pyplot as plt\n",
    "\n",
    "def draw_train_eval_process(title,step,train_reward, eval_reward, label_train_reward, label_eval_reward, color_train, color_eval, label_y):\n",
    "    plt.title(title, fontsize=24)\n",
    "    plt.xlabel(\"epoch\", fontsize=20)\n",
    "    plt.ylabel(label_y, fontsize=20)\n",
    "    plt.plot(step, train_reward,color=color_train,label=label_train_reward) \n",
    "    plt.plot(step, eval_reward,color=color_eval,label=label_eval_reward) \n",
    "    plt.legend()\n",
    "    plt.grid()\n",
    "    plt.show()"
   ]
  },
  {
   "cell_type": "code",
   "execution_count": null,
   "metadata": {
    "collapsed": false
   },
   "outputs": [],
   "source": [
    "## ResNet\n",
    "result_resnet = np.load('result/resnet_result.npz')\n",
    "resnet_train_rewards = result_resnet['all_train_rewards']\n",
    "resnet_eval_rewards = result_resnet['all_eval_rewards']\n",
    "steps = [i for i in range(len(resnet_train_rewards))]\n",
    "draw_train_eval_process(\"ResNet training and eval\",steps,resnet_train_rewards,resnet_eval_rewards, \n",
    "\"ResNet trainning accuracy\", \"ResNet eval accuracy\", \"red\",\"green\", \"resnet_train_eval_accuracy\") "
   ]
  },
  {
   "cell_type": "code",
   "execution_count": null,
   "metadata": {
    "collapsed": false
   },
   "outputs": [],
   "source": [
    "## SpinalNet\n",
    "result_spinal = np.load('result/spinalnet_result.npz')\n",
    "spinal_train_rewards = result_spinal['all_train_rewards']\n",
    "spinal_eval_rewards = result_spinal['all_eval_rewards']\n",
    "train_steps = [i for i in range(len(spinal_train_rewards))]\n",
    "eval_steps = [i for i in range(len(spinal_eval_rewards))]\n",
    "draw_train_eval_process(\"SpinalNet training and eval\",steps,spinal_train_rewards,spinal_eval_rewards, \n",
    "\"SpinalNet trainning accuracy\", \"SpinalNet eval accuracy\", \"red\",\"green\", \"spinal_train_eval_accuracy\") "
   ]
  }
 ],
 "metadata": {
  "kernelspec": {
   "display_name": "ml-env",
   "language": "python",
   "name": "python3"
  },
  "language_info": {
   "codemirror_mode": {
    "name": "ipython",
    "version": 3
   },
   "file_extension": ".py",
   "mimetype": "text/x-python",
   "name": "python",
   "nbconvert_exporter": "python",
   "pygments_lexer": "ipython3",
   "version": "3.10.14"
  }
 },
 "nbformat": 4,
 "nbformat_minor": 1
}
